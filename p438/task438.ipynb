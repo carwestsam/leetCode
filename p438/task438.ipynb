{
 "cells": [
  {
   "cell_type": "markdown",
   "metadata": {},
   "source": [
    "# 438. Find All Anagrams in a String\n",
    "\n",
    "Given a string s and a non-empty string p, find all the start indices of p's anagrams in s.\n",
    "\n",
    "Strings consists of lowercase English letters only and the length of both strings s and p will not be larger than 20,100.\n",
    "\n",
    "The order of output does not matter.\n",
    "\n",
    "### Example 1:\n",
    "\n",
    "```\n",
    "Input:\n",
    "s: \"cbaebabacd\" p: \"abc\"\n",
    "\n",
    "Output:\n",
    "[0, 6]\n",
    "\n",
    "Explanation:\n",
    "The substring with start index = 0 is \"cba\", which is an anagram of \"abc\".\n",
    "The substring with start index = 6 is \"bac\", which is an anagram of \"abc\".\n",
    "```\n",
    "\n",
    "### Example 2:\n",
    "\n",
    "```\n",
    "Input:\n",
    "s: \"abab\" p: \"ab\"\n",
    "\n",
    "Output:\n",
    "[0, 1, 2]\n",
    "\n",
    "Explanation:\n",
    "The substring with start index = 0 is \"ab\", which is an anagram of \"ab\".\n",
    "The substring with start index = 1 is \"ba\", which is an anagram of \"ab\".\n",
    "The substring with start index = 2 is \"ab\", which is an anagram of \"ab\".\n",
    "```\n"
   ]
  },
  {
   "cell_type": "markdown",
   "metadata": {},
   "source": [
    "## MySolution:\n",
    "\n",
    "Create a bucket(size 26) to store the number of charactars. For an word, is has specific number of each charactar. So that the only consern is number of different char.\n",
    "\n",
    "So, will change P to a integer bucket (list)  [ 0, 0, 0, ... 0], size 26. \n",
    "And create a moving window on S. check window bucket is same as P bucket"
   ]
  },
  {
   "cell_type": "code",
   "execution_count": null,
   "metadata": {
    "collapsed": true
   },
   "outputs": [],
   "source": [
    "def extractSP(InputString):\n",
    "    tokenList = InputString.split(\"\\\"\")\n",
    "    print (tokenList)\n",
    "    return {\"s\": tokenList[1], \"p\":tokenList[3]}"
   ]
  },
  {
   "cell_type": "code",
   "execution_count": null,
   "metadata": {
    "collapsed": false
   },
   "outputs": [],
   "source": [
    "extractSP('s: \"cbaebabacd\" p: \"abc\"')"
   ]
  },
  {
   "cell_type": "markdown",
   "metadata": {},
   "source": [
    "create a char bucket"
   ]
  },
  {
   "cell_type": "code",
   "execution_count": null,
   "metadata": {
    "collapsed": false
   },
   "outputs": [],
   "source": [
    "def initialCharBucket():\n",
    "    bucket = []\n",
    "    for i in range(26):\n",
    "        bucket.append(0)\n",
    "        \n",
    "    return bucket"
   ]
  },
  {
   "cell_type": "markdown",
   "metadata": {},
   "source": [
    "convert P to bucket"
   ]
  },
  {
   "cell_type": "code",
   "execution_count": null,
   "metadata": {
    "collapsed": false
   },
   "outputs": [],
   "source": [
    "ordA = ord('a')\n",
    "def initialPBucket(P):\n",
    "    bucket = initialCharBucket()\n",
    "    for ch in P:\n",
    "        bucket[ord(ch) - ordA] += 1\n",
    "    return bucket\n",
    "        "
   ]
  },
  {
   "cell_type": "code",
   "execution_count": null,
   "metadata": {
    "collapsed": false
   },
   "outputs": [],
   "source": [
    "initialPBucket(\"abfdsaz\")"
   ]
  },
  {
   "cell_type": "code",
   "execution_count": null,
   "metadata": {
    "collapsed": true
   },
   "outputs": [],
   "source": [
    "s = \"abc\"\n",
    "p = \"abc\"\n"
   ]
  },
  {
   "cell_type": "markdown",
   "metadata": {},
   "source": [
    "Logic for moving window. Add the last charactor, remove first charactor, and check"
   ]
  },
  {
   "cell_type": "code",
   "execution_count": null,
   "metadata": {
    "collapsed": true
   },
   "outputs": [],
   "source": [
    "def addBucket(bucket, ch):\n",
    "    bucket[ord(ch) - ordA] += 1\n",
    "def delBucket(bucket, ch):\n",
    "    bucket[ord(ch) - ordA] -= 1\n",
    "def checkEqual(bucketA, bucketB):\n",
    "    for i in range(26):\n",
    "        if bucketA[i] != bucketB[i]:\n",
    "            return False\n",
    "    return True\n"
   ]
  },
  {
   "cell_type": "markdown",
   "metadata": {},
   "source": [
    "main function\n",
    "\n",
    "pointer idx slide on S, as starter of bucketS. bucket contains len(p) chactars on S.\n",
    "\n",
    "store answer"
   ]
  },
  {
   "cell_type": "code",
   "execution_count": null,
   "metadata": {
    "collapsed": false
   },
   "outputs": [],
   "source": [
    "\n",
    "\n",
    "cb = initialCharBucket()\n",
    "lenS = len(s)\n",
    "lenP = len(p)\n",
    "\n",
    "bucketS = initialCharBucket()\n",
    "bucketP = initialPBucket(p)\n",
    "\n",
    "if lenS < lenP:\n",
    "#     return []\n",
    "    pass\n",
    "\n",
    "for idx in range(lenP):\n",
    "    addBucket(bucketS, s[idx])\n",
    "    \n",
    "ans = []\n",
    "\n",
    "for idx in range(lenS - lenP + 1):\n",
    "    if checkEqual(bucketS, bucketP):\n",
    "        ans.append(idx)\n",
    "    \n",
    "    if idx + lenP < lenS:\n",
    "        addBucket(bucketS, s[idx + lenP])\n",
    "        delBucket(bucketS, s[idx])\n",
    "\n",
    "print (ans, lenS, lenP)"
   ]
  }
 ],
 "metadata": {
  "kernelspec": {
   "display_name": "Python [py35]",
   "language": "python",
   "name": "Python [py35]"
  },
  "language_info": {
   "codemirror_mode": {
    "name": "ipython",
    "version": 3
   },
   "file_extension": ".py",
   "mimetype": "text/x-python",
   "name": "python",
   "nbconvert_exporter": "python",
   "pygments_lexer": "ipython3",
   "version": "3.5.2"
  }
 },
 "nbformat": 4,
 "nbformat_minor": 0
}
