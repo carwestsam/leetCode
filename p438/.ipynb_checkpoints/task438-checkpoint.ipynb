{
 "cells": [
  {
   "cell_type": "code",
   "execution_count": 3,
   "metadata": {
    "collapsed": true
   },
   "outputs": [],
   "source": [
    "def extractSP(InputString):\n",
    "    tokenList = InputString.split(\"\\\"\")\n",
    "    print (tokenList)\n",
    "    return {\"s\": tokenList[1], \"p\":tokenList[3]}"
   ]
  },
  {
   "cell_type": "code",
   "execution_count": 5,
   "metadata": {
    "collapsed": false
   },
   "outputs": [
    {
     "name": "stdout",
     "output_type": "stream",
     "text": [
      "['s: ', 'cbaebabacd', ' p: ', 'abc', '']\n"
     ]
    },
    {
     "data": {
      "text/plain": [
       "{'p': 'abc', 's': 'cbaebabacd'}"
      ]
     },
     "execution_count": 5,
     "metadata": {},
     "output_type": "execute_result"
    }
   ],
   "source": [
    "extractSP('s: \"cbaebabacd\" p: \"abc\"')"
   ]
  },
  {
   "cell_type": "code",
   "execution_count": 16,
   "metadata": {
    "collapsed": false
   },
   "outputs": [],
   "source": [
    "def initialCharBucket():\n",
    "    bucket = []\n",
    "    for i in range(26):\n",
    "        bucket.append(0)\n",
    "        \n",
    "    return bucket"
   ]
  },
  {
   "cell_type": "code",
   "execution_count": 17,
   "metadata": {
    "collapsed": false
   },
   "outputs": [],
   "source": [
    "ordA = ord('a')\n",
    "def initialPBucket(P):\n",
    "    bucket = initialCharBucket()\n",
    "    for ch in P:\n",
    "        bucket[ord(ch) - ordA] += 1\n",
    "    return bucket\n",
    "        "
   ]
  },
  {
   "cell_type": "code",
   "execution_count": 20,
   "metadata": {
    "collapsed": false
   },
   "outputs": [
    {
     "data": {
      "text/plain": [
       "[2, 1, 0, 1, 0, 1, 0, 0, 0, 0, 0, 0, 0, 0, 0, 0, 0, 0, 1, 0, 0, 0, 0, 0, 0, 1]"
      ]
     },
     "execution_count": 20,
     "metadata": {},
     "output_type": "execute_result"
    }
   ],
   "source": [
    "initialPBucket(\"abfdsaz\")"
   ]
  },
  {
   "cell_type": "code",
   "execution_count": 46,
   "metadata": {
    "collapsed": true
   },
   "outputs": [],
   "source": [
    "s = \"abc\"\n",
    "p = \"abc\"\n"
   ]
  },
  {
   "cell_type": "code",
   "execution_count": 42,
   "metadata": {
    "collapsed": true
   },
   "outputs": [],
   "source": [
    "def addBucket(bucket, ch):\n",
    "    bucket[ord(ch) - ordA] += 1\n",
    "def delBucket(bucket, ch):\n",
    "    bucket[ord(ch) - ordA] -= 1\n",
    "def checkEqual(bucketA, bucketB):\n",
    "    for i in range(26):\n",
    "        if bucketA[i] != bucketB[i]:\n",
    "            return False\n",
    "    return True\n"
   ]
  },
  {
   "cell_type": "code",
   "execution_count": 47,
   "metadata": {
    "collapsed": false
   },
   "outputs": [
    {
     "name": "stdout",
     "output_type": "stream",
     "text": [
      "[0] 3 3\n"
     ]
    }
   ],
   "source": [
    "\n",
    "\n",
    "cb = initialCharBucket()\n",
    "lenS = len(s)\n",
    "lenP = len(p)\n",
    "\n",
    "bucketS = initialCharBucket()\n",
    "bucketP = initialPBucket(p)\n",
    "\n",
    "if lenS < lenP:\n",
    "#     return []\n",
    "    pass\n",
    "\n",
    "for idx in range(lenP):\n",
    "    addBucket(bucketS, s[idx])\n",
    "    \n",
    "ans = []\n",
    "\n",
    "for idx in range(lenS - lenP + 1):\n",
    "    if checkEqual(bucketS, bucketP):\n",
    "        ans.append(idx)\n",
    "    \n",
    "    if idx + lenP < lenS:\n",
    "        addBucket(bucketS, s[idx + lenP])\n",
    "        delBucket(bucketS, s[idx])\n",
    "\n",
    "print (ans, lenS, lenP)"
   ]
  }
 ],
 "metadata": {
  "kernelspec": {
   "display_name": "Python [py35]",
   "language": "python",
   "name": "Python [py35]"
  },
  "language_info": {
   "codemirror_mode": {
    "name": "ipython",
    "version": 3
   },
   "file_extension": ".py",
   "mimetype": "text/x-python",
   "name": "python",
   "nbconvert_exporter": "python",
   "pygments_lexer": "ipython3",
   "version": "3.5.2"
  }
 },
 "nbformat": 4,
 "nbformat_minor": 0
}
